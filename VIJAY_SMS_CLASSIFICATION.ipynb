{
  "nbformat": 4,
  "nbformat_minor": 0,
  "metadata": {
    "colab": {
      "provenance": []
    },
    "kernelspec": {
      "name": "python3",
      "display_name": "Python 3"
    },
    "language_info": {
      "name": "python"
    }
  },
  "cells": [
    {
      "cell_type": "code",
      "execution_count": null,
      "metadata": {
        "id": "yy4u6UlG4-Sx"
      },
      "outputs": [],
      "source": [
        "import numpy as np\n",
        "import pandas as pd\n",
        "import wordcloud\n",
        "import os\n",
        "\n",
        "data_dir = '.'\n",
        "\n",
        "print(os.listdir(data_dir))\n",
        "\n",
        "\n",
        "data = pd.read_csv(os.path.join(data_dir, 'spamdata.csv'), encoding='latin-1')\n",
        "\n",
        "data.shape\n",
        "data.head()\n",
        "\n",
        "data = data.drop(['Unnamed: 2', 'Unnamed: 3', 'Unnamed: 4'], axis = 1)\n",
        "\n",
        "\n",
        "\n",
        "data = data.rename(columns = {'v1': 'Type', 'v2': 'Messages'})\n",
        "\n",
        "data.columns\n",
        "\n",
        "df = pd.DataFrame(data)\n",
        "Spamfilter = df.loc[df['Type'] == 'spam']\n",
        "print (Spamfilter)\n",
        "\n",
        "\n",
        "df = pd.DataFrame(data)\n",
        "hamfilter = df.loc[df['Type'] == 'ham']\n",
        "print (hamfilter)\n",
        "\n",
        "\n",
        "from wordcloud import WordCloud\n",
        "import matplotlib.pyplot as plt\n",
        "\n",
        "wordcloud = WordCloud(background_color = 'White', width = 1000, height = 1000, max_words = 50).generate(str(data['Messages']))\n",
        "\n",
        "plt.rcParams['figure.figsize'] = (10, 10)\n",
        "plt.title('Most Common words in the dataset', fontsize = 20)\n",
        "plt.axis('off')\n",
        "plt.imshow(wordcloud)\n",
        "\n",
        "\n",
        "\n",
        "from wordcloud import WordCloud\n",
        "\n",
        "wordcloud = WordCloud(background_color = 'white', width = 1000, height = 1000, max_words = 50).generate(str([Spamfilter]))\n",
        "\n",
        "plt.rcParams['figure.figsize'] = (10, 10)\n",
        "plt.title('Most Common words in spam', fontsize = 20)\n",
        "plt.axis('off')\n",
        "plt.imshow(wordcloud)\n",
        "\n",
        "\n",
        "\n",
        "from wordcloud import WordCloud\n",
        "\n",
        "wordcloud = WordCloud(background_color = 'white', width = 1000, height = 1000, max_words = 50).generate(str([hamfilter]))\n",
        "\n",
        "plt.rcParams['figure.figsize'] = (10, 10)\n",
        "plt.title('Most Common words in ham', fontsize = 20)\n",
        "plt.axis('off')\n",
        "plt.imshow(wordcloud)"
      ]
    },
    {
      "cell_type": "markdown",
      "source": [
        "# New Section"
      ],
      "metadata": {
        "id": "LHsTVrUg67SW"
      }
    }
  ]
}